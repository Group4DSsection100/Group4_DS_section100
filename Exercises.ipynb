{
 "cells": [
  {
   "cell_type": "code",
   "execution_count": 1,
   "id": "ad2d5d52",
   "metadata": {},
   "outputs": [
    {
     "name": "stdout",
     "output_type": "stream",
     "text": [
      "Hello, world\n"
     ]
    }
   ],
   "source": [
    "print(\"Hello, world\")"
   ]
  },
  {
   "cell_type": "code",
   "execution_count": 3,
   "id": "5b2ed57d",
   "metadata": {},
   "outputs": [
    {
     "name": "stdout",
     "output_type": "stream",
     "text": [
      "20\n",
      "Fatimah\n"
     ]
    }
   ],
   "source": [
    "c,name = 20, 'Fatimah'\n",
    "print(c)\n",
    "print(name)"
   ]
  },
  {
   "cell_type": "markdown",
   "id": "4623bac0",
   "metadata": {},
   "source": [
    "What is the data type of result of 6/2?"
   ]
  },
  {
   "cell_type": "code",
   "execution_count": 6,
   "id": "19283b98",
   "metadata": {},
   "outputs": [
    {
     "data": {
      "text/plain": [
       "int"
      ]
     },
     "execution_count": 6,
     "metadata": {},
     "output_type": "execute_result"
    }
   ],
   "source": [
    "type(6/2)"
   ]
  },
  {
   "cell_type": "markdown",
   "id": "e24c4ff0",
   "metadata": {},
   "source": [
    "What is the data type of the result of: 6//2? "
   ]
  },
  {
   "cell_type": "code",
   "execution_count": 7,
   "id": "e9110b15",
   "metadata": {},
   "outputs": [
    {
     "data": {
      "text/plain": [
       "int"
      ]
     },
     "execution_count": 7,
     "metadata": {},
     "output_type": "execute_result"
    }
   ],
   "source": [
    "type(6//2)"
   ]
  },
  {
   "cell_type": "markdown",
   "id": "e7ecb223",
   "metadata": {},
   "source": [
    "Let's write an expression that calculates how many hours there are in 160 minutes:"
   ]
  },
  {
   "cell_type": "code",
   "execution_count": 8,
   "id": "82cc175e",
   "metadata": {},
   "outputs": [
    {
     "data": {
      "text/plain": [
       "2.6666666666666665"
      ]
     },
     "execution_count": 8,
     "metadata": {},
     "output_type": "execute_result"
    }
   ],
   "source": [
    "160/60"
   ]
  },
  {
   "cell_type": "code",
   "execution_count": 9,
   "id": "58fe9834",
   "metadata": {},
   "outputs": [
    {
     "data": {
      "text/plain": [
       "2"
      ]
     },
     "execution_count": 9,
     "metadata": {},
     "output_type": "execute_result"
    }
   ],
   "source": [
    "160//60"
   ]
  },
  {
   "cell_type": "markdown",
   "id": "355e04eb",
   "metadata": {},
   "source": [
    "What is the value of x where x=3+2+2?"
   ]
  },
  {
   "cell_type": "code",
   "execution_count": 13,
   "id": "28512b18",
   "metadata": {},
   "outputs": [
    {
     "data": {
      "text/plain": [
       "7"
      ]
     },
     "execution_count": 13,
     "metadata": {},
     "output_type": "execute_result"
    }
   ],
   "source": [
    "x= 3+2*2\n",
    "x"
   ]
  },
  {
   "cell_type": "markdown",
   "id": "2a114b84",
   "metadata": {},
   "source": [
    "what is the value of y where y=(3+2)*2?"
   ]
  },
  {
   "cell_type": "code",
   "execution_count": 15,
   "id": "e25e2d49",
   "metadata": {},
   "outputs": [
    {
     "data": {
      "text/plain": [
       "10"
      ]
     },
     "execution_count": 15,
     "metadata": {},
     "output_type": "execute_result"
    }
   ],
   "source": [
    "y=(3+2)*2\n",
    "y"
   ]
  },
  {
   "cell_type": "markdown",
   "id": "5744ba38",
   "metadata": {},
   "source": [
    "What is the value of z where z=x+y?"
   ]
  },
  {
   "cell_type": "code",
   "execution_count": 16,
   "id": "44d4bdee",
   "metadata": {},
   "outputs": [
    {
     "data": {
      "text/plain": [
       "17"
      ]
     },
     "execution_count": 16,
     "metadata": {},
     "output_type": "execute_result"
    }
   ],
   "source": [
    "z=x+y\n",
    "z"
   ]
  },
  {
   "cell_type": "markdown",
   "id": "6bb188c7",
   "metadata": {},
   "source": [
    "What is the value of the variable a after the following code is executed?"
   ]
  },
  {
   "cell_type": "code",
   "execution_count": 28,
   "id": "098eefb4",
   "metadata": {},
   "outputs": [
    {
     "data": {
      "text/plain": [
       "'1'"
      ]
     },
     "execution_count": 28,
     "metadata": {},
     "output_type": "execute_result"
    }
   ],
   "source": [
    "a=\"1\"\n",
    "a"
   ]
  },
  {
   "cell_type": "markdown",
   "id": "ab622989",
   "metadata": {},
   "source": [
    "What is the value of the variable b after the following code is executed?"
   ]
  },
  {
   "cell_type": "code",
   "execution_count": 29,
   "id": "57327b9d",
   "metadata": {},
   "outputs": [
    {
     "data": {
      "text/plain": [
       "'2'"
      ]
     },
     "execution_count": 29,
     "metadata": {},
     "output_type": "execute_result"
    }
   ],
   "source": [
    "b=\"2\"\n",
    "b"
   ]
  },
  {
   "cell_type": "markdown",
   "id": "e0db8edf",
   "metadata": {},
   "source": [
    "What is the value of the variable c after the following code is executed?"
   ]
  },
  {
   "cell_type": "code",
   "execution_count": 31,
   "id": "10de76da",
   "metadata": {},
   "outputs": [
    {
     "data": {
      "text/plain": [
       "'12'"
      ]
     },
     "execution_count": 31,
     "metadata": {},
     "output_type": "execute_result"
    }
   ],
   "source": [
    "c=a+b\n",
    "c"
   ]
  },
  {
   "cell_type": "markdown",
   "id": "f54ad41d",
   "metadata": {},
   "source": [
    "Consider the variable d use slicing to point out the frist three elements:"
   ]
  },
  {
   "cell_type": "code",
   "execution_count": 33,
   "id": "79d46ea0",
   "metadata": {},
   "outputs": [
    {
     "name": "stdout",
     "output_type": "stream",
     "text": [
      "ABC\n"
     ]
    }
   ],
   "source": [
    "d= \"ABCDEF\"\n",
    "print(d[:3])"
   ]
  },
  {
   "cell_type": "markdown",
   "id": "0224ad9e",
   "metadata": {},
   "source": [
    "Use a stride value of 2 to point out every second character of the string e:"
   ]
  },
  {
   "cell_type": "code",
   "execution_count": 34,
   "id": "ce3c5ae5",
   "metadata": {},
   "outputs": [
    {
     "name": "stdout",
     "output_type": "stream",
     "text": [
      "correct\n"
     ]
    }
   ],
   "source": [
    "e= 'clocrkrlelclt'\n",
    "print(e[::2])"
   ]
  },
  {
   "cell_type": "markdown",
   "id": "869e7ddf",
   "metadata": {},
   "source": [
    "print out backslash:"
   ]
  },
  {
   "cell_type": "code",
   "execution_count": 36,
   "id": "decd0801",
   "metadata": {},
   "outputs": [
    {
     "name": "stdout",
     "output_type": "stream",
     "text": [
      "///\n"
     ]
    }
   ],
   "source": [
    "print(\"///\")"
   ]
  },
  {
   "cell_type": "markdown",
   "id": "7a822a90",
   "metadata": {},
   "source": [
    "Convert the variable f to uppercase:"
   ]
  },
  {
   "cell_type": "code",
   "execution_count": 37,
   "id": "dd817936",
   "metadata": {},
   "outputs": [
    {
     "data": {
      "text/plain": [
       "'YOU ARE WRONG'"
      ]
     },
     "execution_count": 37,
     "metadata": {},
     "output_type": "execute_result"
    }
   ],
   "source": [
    "f = \"You are wrong\"\n",
    "f.upper()"
   ]
  },
  {
   "cell_type": "markdown",
   "id": "bf237aab",
   "metadata": {},
   "source": [
    "Consider the variable g, and find the first index of the sub-string snow:\n"
   ]
  },
  {
   "cell_type": "code",
   "execution_count": 40,
   "id": "677df3c4",
   "metadata": {},
   "outputs": [
    {
     "data": {
      "text/plain": [
       "94"
      ]
     },
     "execution_count": 40,
     "metadata": {},
     "output_type": "execute_result"
    }
   ],
   "source": [
    "g= \"Mary had a little lamb Little lamb, little lamb Mary had a little lam Its fleece was white as snow And everywhere that Mary vent Mary went, Mary Everywhere that Mary went The lamb was sure to go\" \n",
    "g.find (\"snow\")"
   ]
  },
  {
   "cell_type": "markdown",
   "id": "80ed7309",
   "metadata": {},
   "source": [
    "In the variable g, replace the sub-string Mary with Bob:"
   ]
  },
  {
   "cell_type": "code",
   "execution_count": 41,
   "id": "02c42902",
   "metadata": {},
   "outputs": [
    {
     "data": {
      "text/plain": [
       "'Bob had a little lamb Little lamb, little lamb Bob had a little lam Its fleece was white as snow And everywhere that Bob vent Bob went, Bob Everywhere that Bob went The lamb was sure to go'"
      ]
     },
     "execution_count": 41,
     "metadata": {},
     "output_type": "execute_result"
    }
   ],
   "source": [
    "g.replace(\"Mary\",\"Bob\")"
   ]
  },
  {
   "cell_type": "markdown",
   "id": "c38256e3",
   "metadata": {},
   "source": [
    " Create a list a list, with the following elements 1, hello, [1,2,3) and True   ."
   ]
  },
  {
   "cell_type": "code",
   "execution_count": 44,
   "id": "6d2ad81b",
   "metadata": {},
   "outputs": [
    {
     "data": {
      "text/plain": [
       "[1, 'hello', [1, 2, 3], 'True']"
      ]
     },
     "execution_count": 44,
     "metadata": {},
     "output_type": "execute_result"
    }
   ],
   "source": [
    "a=[1,\"hello\",[1,2,3],\"True\"]\n",
    "a"
   ]
  },
  {
   "cell_type": "markdown",
   "id": "be1f4ec3",
   "metadata": {},
   "source": [
    "Concatenate the following lists A=[1,'a'] and B=[2,1,'d']:"
   ]
  },
  {
   "cell_type": "code",
   "execution_count": 48,
   "id": "23a7c9b7",
   "metadata": {},
   "outputs": [
    {
     "data": {
      "text/plain": [
       "[1, 'a', 2, 1, 'd']"
      ]
     },
     "execution_count": 48,
     "metadata": {},
     "output_type": "execute_result"
    }
   ],
   "source": [
    "A=[1,'a']\n",
    "B=[2,1,'d']\n",
    "A+B"
   ]
  },
  {
   "cell_type": "markdown",
   "id": "1c5b92da",
   "metadata": {},
   "source": [
    "You will need this dictionary for the next two questions:"
   ]
  },
  {
   "cell_type": "code",
   "execution_count": 54,
   "id": "ff7277a4",
   "metadata": {},
   "outputs": [
    {
     "data": {
      "text/plain": [
       "{'The Bodyguard': '1992', 'Saturday Night Fever': '1977'}"
      ]
     },
     "execution_count": 54,
     "metadata": {},
     "output_type": "execute_result"
    }
   ],
   "source": [
    "soundtrack_dic = {\"The Bodyguard\":\"1992\", \"Saturday Night Fever\": \"1977\"}\n",
    "soundtrack_dic"
   ]
  },
  {
   "cell_type": "markdown",
   "id": "fae8739c",
   "metadata": {},
   "source": [
    "a) In the dictionary soundtrack_dic what are the keys?"
   ]
  },
  {
   "cell_type": "code",
   "execution_count": 55,
   "id": "7fb753a4",
   "metadata": {},
   "outputs": [
    {
     "data": {
      "text/plain": [
       "dict_keys(['The Bodyguard', 'Saturday Night Fever'])"
      ]
     },
     "execution_count": 55,
     "metadata": {},
     "output_type": "execute_result"
    }
   ],
   "source": [
    "soundtrack_dic.keys()"
   ]
  },
  {
   "cell_type": "markdown",
   "id": "4209f3d3",
   "metadata": {},
   "source": [
    "Convort the list ['rap','house','electronic music','rap']"
   ]
  },
  {
   "cell_type": "code",
   "execution_count": 1,
   "id": "ece4fa87",
   "metadata": {},
   "outputs": [
    {
     "data": {
      "text/plain": [
       "{'electronic music', 'house', 'rap'}"
      ]
     },
     "execution_count": 1,
     "metadata": {},
     "output_type": "execute_result"
    }
   ],
   "source": [
    "set(['rap','house','electronic music','rap'])"
   ]
  },
  {
   "cell_type": "markdown",
   "id": "42968bd0",
   "metadata": {},
   "source": [
    "Consider the list A=[1,2,2,1] and set B=([1,2,2,1]), dose sum(A) == sum(B) ?"
   ]
  },
  {
   "cell_type": "code",
   "execution_count": 2,
   "id": "3383bc26",
   "metadata": {},
   "outputs": [
    {
     "name": "stdout",
     "output_type": "stream",
     "text": [
      "the sum of A is: 6\n",
      "the sum of B is: 3\n"
     ]
    }
   ],
   "source": [
    "A=[1,2,2,1]\n",
    "B= set ([1,2,2,1])\n",
    "print(\"the sum of A is:\", sum (A))\n",
    "print(\"the sum of B is:\", sum (B))"
   ]
  },
  {
   "cell_type": "markdown",
   "id": "973f3672",
   "metadata": {},
   "source": [
    "Create a new set album_set3 that is the union of album_set1 and album_set2 :\n",
    "\n"
   ]
  },
  {
   "cell_type": "code",
   "execution_count": 3,
   "id": "7b67d74c",
   "metadata": {},
   "outputs": [
    {
     "data": {
      "text/plain": [
       "{'AC/DC', 'Back in Black', 'The Dark Side of the Moon', 'Thriller'}"
      ]
     },
     "execution_count": 3,
     "metadata": {},
     "output_type": "execute_result"
    }
   ],
   "source": [
    "album_set1 = set([\"Thriller\", 'AC/DC', 'Back in Black'])\n",
    "album_set2 = set([ \"AC/DC\", \"Back in Black\", \"The Dark Side of the Moon\"])\n",
    "album_set3 = album_set1.union(album_set2)\n",
    "album_set3"
   ]
  },
  {
   "cell_type": "markdown",
   "id": "8d35ead0",
   "metadata": {},
   "source": [
    "Find out if album_set1 ia a subset of album_set3:"
   ]
  },
  {
   "cell_type": "code",
   "execution_count": 5,
   "id": "15386dce",
   "metadata": {},
   "outputs": [
    {
     "data": {
      "text/plain": [
       "True"
      ]
     },
     "execution_count": 5,
     "metadata": {},
     "output_type": "execute_result"
    }
   ],
   "source": [
    "album_set1.issubset(album_set3)"
   ]
  },
  {
   "cell_type": "markdown",
   "id": "c1b6b763",
   "metadata": {},
   "source": [
    "\n",
    "Write an if statement to determine if an album had a rating greater than 8. Test it using the rating for the album “Back in Black” that had a rating of 8.5. If the statement is true print \"This album is Amazing!\"\n"
   ]
  },
  {
   "cell_type": "code",
   "execution_count": 8,
   "id": "572def5b",
   "metadata": {},
   "outputs": [
    {
     "name": "stdout",
     "output_type": "stream",
     "text": [
      "This album is Amazing!\n"
     ]
    }
   ],
   "source": [
    "rating = 8.5\n",
    "if rating > 8:\n",
    "    print (\"This album is Amazing!\")\n"
   ]
  },
  {
   "cell_type": "markdown",
   "id": "cdb21fbc",
   "metadata": {},
   "source": [
    "Write an if-else statement that performs the following. If the rating is larger than eight print \"this album is amazing\". If the rating is less than or equal to 8 print \"this album is ok\"."
   ]
  },
  {
   "cell_type": "code",
   "execution_count": 12,
   "id": "bfa72605",
   "metadata": {},
   "outputs": [
    {
     "name": "stdout",
     "output_type": "stream",
     "text": [
      "This album is Ok!\n"
     ]
    }
   ],
   "source": [
    "rating = 5\n",
    "if rating > 8:\n",
    "    print (\"This album is Amazing!\")\n",
    "else:\n",
    "    print (\"This album is Ok!\")"
   ]
  },
  {
   "cell_type": "markdown",
   "id": "f721cf7b",
   "metadata": {},
   "source": [
    "Write a for loop the prints out all the element between -5 and 5 using the range function."
   ]
  },
  {
   "cell_type": "code",
   "execution_count": 13,
   "id": "a7c7b1f7",
   "metadata": {},
   "outputs": [
    {
     "name": "stdout",
     "output_type": "stream",
     "text": [
      "-4\n",
      "-3\n",
      "-2\n",
      "-1\n",
      "0\n",
      "1\n",
      "2\n",
      "3\n",
      "4\n"
     ]
    }
   ],
   "source": [
    "for i in range(-4, 5):\n",
    "    print(i)"
   ]
  },
  {
   "cell_type": "markdown",
   "id": "3f4ba98f",
   "metadata": {},
   "source": [
    "Print the elements of the following list: Genres=[ 'rock', 'R&B', 'Soundtrack',\n",
    "'R&B', 'soul', 'pop'] Make sure you follow Python conventions"
   ]
  },
  {
   "cell_type": "code",
   "execution_count": 14,
   "id": "55f25315",
   "metadata": {},
   "outputs": [
    {
     "name": "stdout",
     "output_type": "stream",
     "text": [
      "rock\n",
      "R&B\n",
      "Soundtrack\n",
      "R&B\n",
      "soul\n",
      "pop\n"
     ]
    }
   ],
   "source": [
    "Genres = ['rock', 'R&B', 'Soundtrack', 'R&B', 'soul', 'pop']\n",
    "for Genre in Genres:\n",
    "    print(Genre)"
   ]
  },
  {
   "cell_type": "markdown",
   "id": "b67c7a4c",
   "metadata": {},
   "source": [
    "Write a for loop that prints out the following list: squares=['red', 'yellow',\n",
    "'green', 'purple', 'blue']"
   ]
  },
  {
   "cell_type": "code",
   "execution_count": 15,
   "id": "efde3f98",
   "metadata": {},
   "outputs": [
    {
     "name": "stdout",
     "output_type": "stream",
     "text": [
      "red\n",
      "yellow\n",
      "green\n",
      "purple\n",
      "blue\n"
     ]
    }
   ],
   "source": [
    "squares= [ 'red' , 'yellow' ,  'green' ,  'purple' ,    'blue' ] \n",
    "for square in squares :\n",
    "    print (square)\n"
   ]
  },
  {
   "cell_type": "markdown",
   "id": "521d50ff",
   "metadata": {},
   "source": [
    "Write a while loop to display the values of the Rating of an album playlist stored in the list\n",
    "PlayListRatings . If the score is less than 6, exit the loop. The list PlayListRatings\n",
    "is given by: PlayListRatings = [10, 9.5, 10, 8, 7.5, 5, 10, 10]\n"
   ]
  },
  {
   "cell_type": "code",
   "execution_count": 16,
   "id": "f920b6f4",
   "metadata": {},
   "outputs": [
    {
     "name": "stdout",
     "output_type": "stream",
     "text": [
      "10\n",
      "9.5\n",
      "10\n",
      "8\n",
      "7.5\n",
      "5\n"
     ]
    }
   ],
   "source": [
    "PlayListRatings = [10, 9.5, 10, 8, 7.5, 5, 10, 10]\n",
    "i = 0\n",
    "Rating = PlayListRatings[0]\n",
    "while(i < len(PlayListRatings) and Rating >= 6):\n",
    "    Rating = PlayListRatings[i]\n",
    "    print(Rating)\n",
    "    i = i + 1"
   ]
  }
 ],
 "metadata": {
  "kernelspec": {
   "display_name": "Python 3",
   "language": "python",
   "name": "python3"
  },
  "language_info": {
   "codemirror_mode": {
    "name": "ipython",
    "version": 3
   },
   "file_extension": ".py",
   "mimetype": "text/x-python",
   "name": "python",
   "nbconvert_exporter": "python",
   "pygments_lexer": "ipython3",
   "version": "3.8.8"
  }
 },
 "nbformat": 4,
 "nbformat_minor": 5
}
